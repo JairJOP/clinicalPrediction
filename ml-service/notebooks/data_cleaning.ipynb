{
 "cells": [
  {
   "cell_type": "code",
   "execution_count": 1,
   "id": "ffd61274",
   "metadata": {},
   "outputs": [
    {
     "name": "stdout",
     "output_type": "stream",
     "text": [
      "c:\\Users\\jairj\\OneDrive\\Escritorio\\clinicalPrediction\\clinicalPrediction\\ml-service\\.venv\\Scripts\\python.exe\n",
      "2.3.1\n"
     ]
    }
   ],
   "source": [
    "import sys, pandas as pd\n",
    "print(sys.executable)\n",
    "print(pd.__version__)\n"
   ]
  }
 ],
 "metadata": {
  "kernelspec": {
   "display_name": ".venv",
   "language": "python",
   "name": "python3"
  },
  "language_info": {
   "codemirror_mode": {
    "name": "ipython",
    "version": 3
   },
   "file_extension": ".py",
   "mimetype": "text/x-python",
   "name": "python",
   "nbconvert_exporter": "python",
   "pygments_lexer": "ipython3",
   "version": "3.12.10"
  }
 },
 "nbformat": 4,
 "nbformat_minor": 5
}
